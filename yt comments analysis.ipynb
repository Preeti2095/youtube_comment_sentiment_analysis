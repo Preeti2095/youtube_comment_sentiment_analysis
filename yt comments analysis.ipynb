{
 "cells": [
  {
   "cell_type": "code",
   "execution_count": 2,
   "metadata": {},
   "outputs": [],
   "source": [
    "import time\n",
    "\n",
    "from selenium import webdriver\n",
    "\n",
    "from selenium.webdriver.chrome.service import Service\n",
    "\n",
    "service = Service('/home/bda-lab/Downloads/chromedriver')\n",
    "\n",
    "service.start()\n",
    "\n",
    "driver = webdriver.Remote(service.service_url)\n",
    "\n",
    "driver.get('http://www.google.com/');\n",
    "\n",
    "time.sleep(5) # Let the user actually see something!\n",
    "\n",
    "driver.quit()"
   ]
  },
  {
   "cell_type": "code",
   "execution_count": 3,
   "metadata": {},
   "outputs": [],
   "source": [
    "import time\n",
    "from selenium.webdriver import Chrome\n",
    "from selenium.webdriver.common.by import By\n",
    "from selenium.webdriver.common.keys import Keys\n",
    "from selenium.webdriver.support.ui import WebDriverWait\n",
    "from selenium.webdriver.support import expected_conditions as EC"
   ]
  },
  {
   "cell_type": "code",
   "execution_count": 5,
   "metadata": {},
   "outputs": [],
   "source": [
    "data=[]\n",
    "\n",
    "with Chrome(executable_path=r'/home/bda-lab/Downloads/chromedriver') as driver:\n",
    "    wait = WebDriverWait(driver,15)\n",
    "    driver.get(\"https://www.youtube.com/watch?v=kuhhT_cBtFU&t=2s\")\n",
    "\n",
    "    for item in range(100): \n",
    "        wait.until(EC.visibility_of_element_located((By.TAG_NAME, \"body\"))).send_keys(Keys.END)\n",
    "        time.sleep(5)\n",
    "\n",
    "    for comment in wait.until(EC.presence_of_all_elements_located((By.CSS_SELECTOR, \"#content\"))):\n",
    "        data.append(comment.text)"
   ]
  },
  {
   "cell_type": "code",
   "execution_count": 7,
   "metadata": {},
   "outputs": [],
   "source": [
    "# data[0]"
   ]
  },
  {
   "cell_type": "code",
   "execution_count": 8,
   "metadata": {},
   "outputs": [
    {
     "data": {
      "text/plain": [
       "list"
      ]
     },
     "execution_count": 8,
     "metadata": {},
     "output_type": "execute_result"
    }
   ],
   "source": [
    "type(data)"
   ]
  },
  {
   "cell_type": "code",
   "execution_count": 9,
   "metadata": {},
   "outputs": [
    {
     "data": {
      "text/plain": [
       "'The fact this is what you choose to cover shows your true intentions.'"
      ]
     },
     "execution_count": 9,
     "metadata": {},
     "output_type": "execute_result"
    }
   ],
   "source": [
    "data[6]"
   ]
  },
  {
   "cell_type": "code",
   "execution_count": 11,
   "metadata": {},
   "outputs": [],
   "source": [
    "with open('/home/preeti/anaconda3/machine learning/yt_comments2.txt',\"w\") as f:\n",
    "    for i in range(len(data)):\n",
    "        f.write(data[i])\n",
    "    f.close()"
   ]
  },
  {
   "cell_type": "code",
   "execution_count": 12,
   "metadata": {},
   "outputs": [],
   "source": [
    "import pandas as pd\n",
    "yt_comment=pd.DataFrame(data,columns=['comment'])"
   ]
  },
  {
   "cell_type": "code",
   "execution_count": 19,
   "metadata": {},
   "outputs": [],
   "source": [
    "import numpy as np\n",
    "from wordcloud import WordCloud\n",
    "import matplotlib.pyplot as plt"
   ]
  },
  {
   "cell_type": "code",
   "execution_count": 14,
   "metadata": {},
   "outputs": [],
   "source": [
    "yt_comment.drop([0,1],inplace=True)"
   ]
  },
  {
   "cell_type": "code",
   "execution_count": 15,
   "metadata": {},
   "outputs": [],
   "source": [
    "yt_comment.reset_index(inplace=True)"
   ]
  },
  {
   "cell_type": "code",
   "execution_count": 16,
   "metadata": {},
   "outputs": [
    {
     "data": {
      "text/html": [
       "<div>\n",
       "<style scoped>\n",
       "    .dataframe tbody tr th:only-of-type {\n",
       "        vertical-align: middle;\n",
       "    }\n",
       "\n",
       "    .dataframe tbody tr th {\n",
       "        vertical-align: top;\n",
       "    }\n",
       "\n",
       "    .dataframe thead th {\n",
       "        text-align: right;\n",
       "    }\n",
       "</style>\n",
       "<table border=\"1\" class=\"dataframe\">\n",
       "  <thead>\n",
       "    <tr style=\"text-align: right;\">\n",
       "      <th></th>\n",
       "      <th>comment</th>\n",
       "    </tr>\n",
       "  </thead>\n",
       "  <tbody>\n",
       "    <tr>\n",
       "      <th>0</th>\n",
       "      <td>I'm not from the US but I sure as hell know no...</td>\n",
       "    </tr>\n",
       "    <tr>\n",
       "      <th>1</th>\n",
       "      <td>We dont need his \"help to understand what we'r...</td>\n",
       "    </tr>\n",
       "    <tr>\n",
       "      <th>2</th>\n",
       "      <td>There's a time and a place to fight the police...</td>\n",
       "    </tr>\n",
       "    <tr>\n",
       "      <th>3</th>\n",
       "      <td>I always wonder why CNN never shows the whole ...</td>\n",
       "    </tr>\n",
       "    <tr>\n",
       "      <th>4</th>\n",
       "      <td>The fact this is what you choose to cover show...</td>\n",
       "    </tr>\n",
       "    <tr>\n",
       "      <th>...</th>\n",
       "      <td>...</td>\n",
       "    </tr>\n",
       "    <tr>\n",
       "      <th>1975</th>\n",
       "      <td>the USA is lost...and nobody gonna fix that......</td>\n",
       "    </tr>\n",
       "    <tr>\n",
       "      <th>1976</th>\n",
       "      <td>This doesn't justify the killing.</td>\n",
       "    </tr>\n",
       "    <tr>\n",
       "      <th>1977</th>\n",
       "      <td>The officers were wrong. Your first instinct s...</td>\n",
       "    </tr>\n",
       "    <tr>\n",
       "      <th>1978</th>\n",
       "      <td>Horrible, Black Must Fight Back</td>\n",
       "    </tr>\n",
       "    <tr>\n",
       "      <th>1979</th>\n",
       "      <td>This is BS..  you did not show perp point tase...</td>\n",
       "    </tr>\n",
       "  </tbody>\n",
       "</table>\n",
       "<p>1980 rows × 1 columns</p>\n",
       "</div>"
      ],
      "text/plain": [
       "                                                comment\n",
       "0     I'm not from the US but I sure as hell know no...\n",
       "1     We dont need his \"help to understand what we'r...\n",
       "2     There's a time and a place to fight the police...\n",
       "3     I always wonder why CNN never shows the whole ...\n",
       "4     The fact this is what you choose to cover show...\n",
       "...                                                 ...\n",
       "1975  the USA is lost...and nobody gonna fix that......\n",
       "1976                  This doesn't justify the killing.\n",
       "1977  The officers were wrong. Your first instinct s...\n",
       "1978                    Horrible, Black Must Fight Back\n",
       "1979  This is BS..  you did not show perp point tase...\n",
       "\n",
       "[1980 rows x 1 columns]"
      ]
     },
     "execution_count": 16,
     "metadata": {},
     "output_type": "execute_result"
    }
   ],
   "source": [
    "yt_comment.drop(['index'],axis=1)"
   ]
  },
  {
   "cell_type": "code",
   "execution_count": 17,
   "metadata": {},
   "outputs": [],
   "source": [
    "yt_comment.to_csv('/home/preeti/anaconda3/machine learning/yt_comment_dataframe.csv')"
   ]
  },
  {
   "cell_type": "code",
   "execution_count": 61,
   "metadata": {},
   "outputs": [],
   "source": [
    "import pandas as pd\n",
    "\n",
    "yt_comment = pd.read_csv(\"yt_comment_dataframe.csv\", index_col=False)"
   ]
  },
  {
   "cell_type": "code",
   "execution_count": 62,
   "metadata": {},
   "outputs": [
    {
     "data": {
      "text/html": [
       "<div>\n",
       "<style scoped>\n",
       "    .dataframe tbody tr th:only-of-type {\n",
       "        vertical-align: middle;\n",
       "    }\n",
       "\n",
       "    .dataframe tbody tr th {\n",
       "        vertical-align: top;\n",
       "    }\n",
       "\n",
       "    .dataframe thead th {\n",
       "        text-align: right;\n",
       "    }\n",
       "</style>\n",
       "<table border=\"1\" class=\"dataframe\">\n",
       "  <thead>\n",
       "    <tr style=\"text-align: right;\">\n",
       "      <th></th>\n",
       "      <th>Unnamed: 0</th>\n",
       "      <th>index</th>\n",
       "      <th>comment</th>\n",
       "    </tr>\n",
       "  </thead>\n",
       "  <tbody>\n",
       "    <tr>\n",
       "      <th>0</th>\n",
       "      <td>0</td>\n",
       "      <td>2</td>\n",
       "      <td>I'm not from the US but I sure as hell know no...</td>\n",
       "    </tr>\n",
       "    <tr>\n",
       "      <th>1</th>\n",
       "      <td>1</td>\n",
       "      <td>3</td>\n",
       "      <td>We dont need his \"help to understand what we'r...</td>\n",
       "    </tr>\n",
       "    <tr>\n",
       "      <th>2</th>\n",
       "      <td>2</td>\n",
       "      <td>4</td>\n",
       "      <td>There's a time and a place to fight the police...</td>\n",
       "    </tr>\n",
       "    <tr>\n",
       "      <th>3</th>\n",
       "      <td>3</td>\n",
       "      <td>5</td>\n",
       "      <td>I always wonder why CNN never shows the whole ...</td>\n",
       "    </tr>\n",
       "    <tr>\n",
       "      <th>4</th>\n",
       "      <td>4</td>\n",
       "      <td>6</td>\n",
       "      <td>The fact this is what you choose to cover show...</td>\n",
       "    </tr>\n",
       "  </tbody>\n",
       "</table>\n",
       "</div>"
      ],
      "text/plain": [
       "   Unnamed: 0  index                                            comment\n",
       "0           0      2  I'm not from the US but I sure as hell know no...\n",
       "1           1      3  We dont need his \"help to understand what we'r...\n",
       "2           2      4  There's a time and a place to fight the police...\n",
       "3           3      5  I always wonder why CNN never shows the whole ...\n",
       "4           4      6  The fact this is what you choose to cover show..."
      ]
     },
     "execution_count": 62,
     "metadata": {},
     "output_type": "execute_result"
    }
   ],
   "source": [
    "yt_comment.head()"
   ]
  },
  {
   "cell_type": "code",
   "execution_count": 63,
   "metadata": {},
   "outputs": [],
   "source": [
    "yt_comment.drop([\"Unnamed: 0\",\"index\"],axis=1,inplace=True)"
   ]
  },
  {
   "cell_type": "code",
   "execution_count": 64,
   "metadata": {},
   "outputs": [
    {
     "data": {
      "text/html": [
       "<div>\n",
       "<style scoped>\n",
       "    .dataframe tbody tr th:only-of-type {\n",
       "        vertical-align: middle;\n",
       "    }\n",
       "\n",
       "    .dataframe tbody tr th {\n",
       "        vertical-align: top;\n",
       "    }\n",
       "\n",
       "    .dataframe thead th {\n",
       "        text-align: right;\n",
       "    }\n",
       "</style>\n",
       "<table border=\"1\" class=\"dataframe\">\n",
       "  <thead>\n",
       "    <tr style=\"text-align: right;\">\n",
       "      <th></th>\n",
       "      <th>comment</th>\n",
       "    </tr>\n",
       "  </thead>\n",
       "  <tbody>\n",
       "    <tr>\n",
       "      <th>0</th>\n",
       "      <td>I'm not from the US but I sure as hell know no...</td>\n",
       "    </tr>\n",
       "    <tr>\n",
       "      <th>1</th>\n",
       "      <td>We dont need his \"help to understand what we'r...</td>\n",
       "    </tr>\n",
       "    <tr>\n",
       "      <th>2</th>\n",
       "      <td>There's a time and a place to fight the police...</td>\n",
       "    </tr>\n",
       "    <tr>\n",
       "      <th>3</th>\n",
       "      <td>I always wonder why CNN never shows the whole ...</td>\n",
       "    </tr>\n",
       "    <tr>\n",
       "      <th>4</th>\n",
       "      <td>The fact this is what you choose to cover show...</td>\n",
       "    </tr>\n",
       "  </tbody>\n",
       "</table>\n",
       "</div>"
      ],
      "text/plain": [
       "                                             comment\n",
       "0  I'm not from the US but I sure as hell know no...\n",
       "1  We dont need his \"help to understand what we'r...\n",
       "2  There's a time and a place to fight the police...\n",
       "3  I always wonder why CNN never shows the whole ...\n",
       "4  The fact this is what you choose to cover show..."
      ]
     },
     "execution_count": 64,
     "metadata": {},
     "output_type": "execute_result"
    }
   ],
   "source": [
    "yt_comment.head()"
   ]
  },
  {
   "cell_type": "code",
   "execution_count": 65,
   "metadata": {},
   "outputs": [
    {
     "ename": "NameError",
     "evalue": "name 'WordCloud' is not defined",
     "output_type": "error",
     "traceback": [
      "\u001b[1;31m---------------------------------------------------------------------------\u001b[0m",
      "\u001b[1;31mNameError\u001b[0m                                 Traceback (most recent call last)",
      "\u001b[1;32m<ipython-input-65-f5b904dbcd89>\u001b[0m in \u001b[0;36m<module>\u001b[1;34m\u001b[0m\n\u001b[0;32m      1\u001b[0m \u001b[1;31m# plot the word cloud\u001b[0m\u001b[1;33m\u001b[0m\u001b[1;33m\u001b[0m\u001b[1;33m\u001b[0m\u001b[0m\n\u001b[0;32m      2\u001b[0m \u001b[0mallWords\u001b[0m\u001b[1;33m=\u001b[0m\u001b[1;34m' '\u001b[0m\u001b[1;33m.\u001b[0m\u001b[0mjoin\u001b[0m\u001b[1;33m(\u001b[0m\u001b[1;33m[\u001b[0m\u001b[0mcmt\u001b[0m \u001b[1;32mfor\u001b[0m \u001b[0mcmt\u001b[0m \u001b[1;32min\u001b[0m \u001b[0myt_comment\u001b[0m\u001b[1;33m[\u001b[0m\u001b[1;34m'comment'\u001b[0m\u001b[1;33m]\u001b[0m \u001b[1;33m]\u001b[0m\u001b[1;33m)\u001b[0m\u001b[1;33m\u001b[0m\u001b[1;33m\u001b[0m\u001b[0m\n\u001b[1;32m----> 3\u001b[1;33m \u001b[0mwordcloud\u001b[0m\u001b[1;33m=\u001b[0m\u001b[0mWordCloud\u001b[0m\u001b[1;33m(\u001b[0m \u001b[0mwidth\u001b[0m \u001b[1;33m=\u001b[0m \u001b[1;36m800\u001b[0m\u001b[1;33m,\u001b[0m \u001b[0mheight\u001b[0m \u001b[1;33m=\u001b[0m \u001b[1;36m500\u001b[0m\u001b[1;33m,\u001b[0m\u001b[0mrandom_state\u001b[0m\u001b[1;33m=\u001b[0m\u001b[1;36m21\u001b[0m\u001b[1;33m,\u001b[0m \u001b[0mmax_font_size\u001b[0m \u001b[1;33m=\u001b[0m\u001b[1;36m150\u001b[0m\u001b[1;33m)\u001b[0m\u001b[1;33m.\u001b[0m\u001b[0mgenerate\u001b[0m\u001b[1;33m(\u001b[0m\u001b[0mallWords\u001b[0m\u001b[1;33m)\u001b[0m\u001b[1;33m\u001b[0m\u001b[1;33m\u001b[0m\u001b[0m\n\u001b[0m\u001b[0;32m      4\u001b[0m \u001b[1;33m\u001b[0m\u001b[0m\n\u001b[0;32m      5\u001b[0m \u001b[0mplt\u001b[0m\u001b[1;33m.\u001b[0m\u001b[0mimshow\u001b[0m\u001b[1;33m(\u001b[0m\u001b[0mwordcloud\u001b[0m\u001b[1;33m,\u001b[0m\u001b[0minterpolation\u001b[0m\u001b[1;33m=\u001b[0m\u001b[1;34m\"bilinear\"\u001b[0m\u001b[1;33m)\u001b[0m\u001b[1;33m\u001b[0m\u001b[1;33m\u001b[0m\u001b[0m\n",
      "\u001b[1;31mNameError\u001b[0m: name 'WordCloud' is not defined"
     ]
    }
   ],
   "source": [
    "# plot the word cloud\n",
    "allWords=' '.join([cmt for cmt in yt_comment['comment'] ])\n",
    "wordcloud=WordCloud( width = 800, height = 500,random_state=21, max_font_size =150).generate(allWords)\n",
    "\n",
    "plt.imshow(wordcloud,interpolation=\"bilinear\")\n",
    "plt.axis('off')\n",
    "plt.show()"
   ]
  },
  {
   "cell_type": "code",
   "execution_count": 66,
   "metadata": {},
   "outputs": [
    {
     "ename": "NameError",
     "evalue": "name 'WordCloud' is not defined",
     "output_type": "error",
     "traceback": [
      "\u001b[1;31m---------------------------------------------------------------------------\u001b[0m",
      "\u001b[1;31mNameError\u001b[0m                                 Traceback (most recent call last)",
      "\u001b[1;32m<ipython-input-66-999e3175041f>\u001b[0m in \u001b[0;36m<module>\u001b[1;34m\u001b[0m\n\u001b[0;32m      1\u001b[0m \u001b[1;31m# plot the word cloud\u001b[0m\u001b[1;33m\u001b[0m\u001b[1;33m\u001b[0m\u001b[1;33m\u001b[0m\u001b[0m\n\u001b[0;32m      2\u001b[0m \u001b[0mallWords\u001b[0m\u001b[1;33m=\u001b[0m\u001b[1;34m' '\u001b[0m\u001b[1;33m.\u001b[0m\u001b[0mjoin\u001b[0m\u001b[1;33m(\u001b[0m\u001b[1;33m[\u001b[0m\u001b[0mcmt\u001b[0m \u001b[1;32mfor\u001b[0m \u001b[0mcmt\u001b[0m \u001b[1;32min\u001b[0m \u001b[0myt_comment\u001b[0m\u001b[1;33m[\u001b[0m\u001b[1;34m'comment'\u001b[0m\u001b[1;33m]\u001b[0m \u001b[1;33m]\u001b[0m\u001b[1;33m)\u001b[0m\u001b[1;33m\u001b[0m\u001b[1;33m\u001b[0m\u001b[0m\n\u001b[1;32m----> 3\u001b[1;33m \u001b[0mwordcloud\u001b[0m\u001b[1;33m=\u001b[0m\u001b[0mWordCloud\u001b[0m\u001b[1;33m(\u001b[0m\u001b[0mwidth\u001b[0m \u001b[1;33m=\u001b[0m \u001b[1;36m800\u001b[0m\u001b[1;33m,\u001b[0m \u001b[0mheight\u001b[0m \u001b[1;33m=\u001b[0m \u001b[1;36m500\u001b[0m\u001b[1;33m,\u001b[0m \u001b[0mrandom_state\u001b[0m\u001b[1;33m=\u001b[0m\u001b[1;36m21\u001b[0m\u001b[1;33m,\u001b[0m \u001b[0mmax_font_size\u001b[0m \u001b[1;33m=\u001b[0m\u001b[1;36m150\u001b[0m\u001b[1;33m)\u001b[0m\u001b[1;33m.\u001b[0m\u001b[0mgenerate\u001b[0m\u001b[1;33m(\u001b[0m\u001b[0mallWords\u001b[0m\u001b[1;33m)\u001b[0m\u001b[1;33m\u001b[0m\u001b[1;33m\u001b[0m\u001b[0m\n\u001b[0m\u001b[0;32m      4\u001b[0m \u001b[1;33m\u001b[0m\u001b[0m\n\u001b[0;32m      5\u001b[0m \u001b[0mplt\u001b[0m\u001b[1;33m.\u001b[0m\u001b[0mimshow\u001b[0m\u001b[1;33m(\u001b[0m\u001b[0mwordcloud\u001b[0m\u001b[1;33m,\u001b[0m\u001b[0minterpolation\u001b[0m\u001b[1;33m=\u001b[0m\u001b[1;34m\"bilinear\"\u001b[0m\u001b[1;33m)\u001b[0m\u001b[1;33m\u001b[0m\u001b[1;33m\u001b[0m\u001b[0m\n",
      "\u001b[1;31mNameError\u001b[0m: name 'WordCloud' is not defined"
     ]
    }
   ],
   "source": [
    "# plot the word cloud\n",
    "allWords=' '.join([cmt for cmt in yt_comment['comment'] ])\n",
    "wordcloud=WordCloud(width = 800, height = 500, random_state=21, max_font_size =150).generate(allWords)\n",
    "\n",
    "plt.imshow(wordcloud,interpolation=\"bilinear\")\n",
    "plt.axis('off')\n",
    "plt.show()"
   ]
  },
  {
   "cell_type": "code",
   "execution_count": 67,
   "metadata": {},
   "outputs": [
    {
     "data": {
      "text/plain": [
       "0     I'm not from the US but I sure as hell know no...\n",
       "1     We dont need his \"help to understand what we'r...\n",
       "2     There's a time and a place to fight the police...\n",
       "3     I always wonder why CNN never shows the whole ...\n",
       "4     The fact this is what you choose to cover show...\n",
       "5     Show the part where he stole the cops taser an...\n",
       "6     Is one thing to get mad for a man getting shot...\n",
       "7     “Taser is less than lethal.”                  ...\n",
       "8     How can you try fight cops, steal their weapon...\n",
       "9     I’m not saying it’s right but resisting arrest...\n",
       "10    a knife or gun is considered a deadly weapon a...\n",
       "11    You can't be fighting with police, they have t...\n",
       "12    I watched the entire video multiple times and ...\n",
       "13    You conveniently left out that in the struggle...\n",
       "14    So the suspect is driving while under the infl...\n",
       "15    You guys need to post whole videos. For clarit...\n",
       "16          PRAY for the world right now,it needs it!!!\n",
       "17    \"APD SHOOTING EXPLAINED\\nBefore reading below,...\n",
       "18    Proportionality requires that any measure that...\n",
       "19    Can you imagine if CNN was the only place you ...\n",
       "Name: comment, dtype: object"
      ]
     },
     "execution_count": 67,
     "metadata": {},
     "output_type": "execute_result"
    }
   ],
   "source": [
    "yt_comment['comment'][:20]"
   ]
  },
  {
   "cell_type": "markdown",
   "metadata": {},
   "source": [
    "need some text cleaning"
   ]
  },
  {
   "cell_type": "code",
   "execution_count": 68,
   "metadata": {},
   "outputs": [],
   "source": [
    "#remove stopwords\n",
    "#remove punctuation\n",
    "#do stemming"
   ]
  },
  {
   "cell_type": "code",
   "execution_count": 69,
   "metadata": {},
   "outputs": [],
   "source": [
    "from nltk.tokenize import word_tokenize\n",
    "from nltk.corpus import stopwords,wordnet\n",
    "from nltk.stem import PorterStemmer"
   ]
  },
  {
   "cell_type": "code",
   "execution_count": 70,
   "metadata": {},
   "outputs": [
    {
     "name": "stderr",
     "output_type": "stream",
     "text": [
      "[nltk_data] Downloading package punkt to C:\\Users\\JYOTI KUMARI\n",
      "[nltk_data]     MURMU\\AppData\\Roaming\\nltk_data...\n",
      "[nltk_data]   Package punkt is already up-to-date!\n"
     ]
    },
    {
     "data": {
      "text/plain": [
       "True"
      ]
     },
     "execution_count": 70,
     "metadata": {},
     "output_type": "execute_result"
    }
   ],
   "source": [
    "import nltk\n",
    "nltk.download('punkt')"
   ]
  },
  {
   "cell_type": "code",
   "execution_count": 71,
   "metadata": {},
   "outputs": [],
   "source": [
    "yt_comment[\"token_comment\"] = yt_comment[\"comment\"].apply(word_tokenize)"
   ]
  },
  {
   "cell_type": "code",
   "execution_count": 72,
   "metadata": {},
   "outputs": [
    {
     "data": {
      "text/html": [
       "<div>\n",
       "<style scoped>\n",
       "    .dataframe tbody tr th:only-of-type {\n",
       "        vertical-align: middle;\n",
       "    }\n",
       "\n",
       "    .dataframe tbody tr th {\n",
       "        vertical-align: top;\n",
       "    }\n",
       "\n",
       "    .dataframe thead th {\n",
       "        text-align: right;\n",
       "    }\n",
       "</style>\n",
       "<table border=\"1\" class=\"dataframe\">\n",
       "  <thead>\n",
       "    <tr style=\"text-align: right;\">\n",
       "      <th></th>\n",
       "      <th>comment</th>\n",
       "      <th>token_comment</th>\n",
       "    </tr>\n",
       "  </thead>\n",
       "  <tbody>\n",
       "    <tr>\n",
       "      <th>0</th>\n",
       "      <td>I'm not from the US but I sure as hell know no...</td>\n",
       "      <td>[I, 'm, not, from, the, US, but, I, sure, as, ...</td>\n",
       "    </tr>\n",
       "    <tr>\n",
       "      <th>1</th>\n",
       "      <td>We dont need his \"help to understand what we'r...</td>\n",
       "      <td>[We, dont, need, his, ``, help, to, understand...</td>\n",
       "    </tr>\n",
       "    <tr>\n",
       "      <th>2</th>\n",
       "      <td>There's a time and a place to fight the police...</td>\n",
       "      <td>[There, 's, a, time, and, a, place, to, fight,...</td>\n",
       "    </tr>\n",
       "    <tr>\n",
       "      <th>3</th>\n",
       "      <td>I always wonder why CNN never shows the whole ...</td>\n",
       "      <td>[I, always, wonder, why, CNN, never, shows, th...</td>\n",
       "    </tr>\n",
       "    <tr>\n",
       "      <th>4</th>\n",
       "      <td>The fact this is what you choose to cover show...</td>\n",
       "      <td>[The, fact, this, is, what, you, choose, to, c...</td>\n",
       "    </tr>\n",
       "    <tr>\n",
       "      <th>...</th>\n",
       "      <td>...</td>\n",
       "      <td>...</td>\n",
       "    </tr>\n",
       "    <tr>\n",
       "      <th>1975</th>\n",
       "      <td>the USA is lost...and nobody gonna fix that......</td>\n",
       "      <td>[the, USA, is, lost, ..., and, nobody, gon, na...</td>\n",
       "    </tr>\n",
       "    <tr>\n",
       "      <th>1976</th>\n",
       "      <td>This doesn't justify the killing.</td>\n",
       "      <td>[This, does, n't, justify, the, killing, .]</td>\n",
       "    </tr>\n",
       "    <tr>\n",
       "      <th>1977</th>\n",
       "      <td>The officers were wrong. Your first instinct s...</td>\n",
       "      <td>[The, officers, were, wrong, ., Your, first, i...</td>\n",
       "    </tr>\n",
       "    <tr>\n",
       "      <th>1978</th>\n",
       "      <td>Horrible, Black Must Fight Back</td>\n",
       "      <td>[Horrible, ,, Black, Must, Fight, Back]</td>\n",
       "    </tr>\n",
       "    <tr>\n",
       "      <th>1979</th>\n",
       "      <td>This is BS..  you did not show perp point tase...</td>\n",
       "      <td>[This, is, BS, .., you, did, not, show, perp, ...</td>\n",
       "    </tr>\n",
       "  </tbody>\n",
       "</table>\n",
       "<p>1980 rows × 2 columns</p>\n",
       "</div>"
      ],
      "text/plain": [
       "                                                comment  \\\n",
       "0     I'm not from the US but I sure as hell know no...   \n",
       "1     We dont need his \"help to understand what we'r...   \n",
       "2     There's a time and a place to fight the police...   \n",
       "3     I always wonder why CNN never shows the whole ...   \n",
       "4     The fact this is what you choose to cover show...   \n",
       "...                                                 ...   \n",
       "1975  the USA is lost...and nobody gonna fix that......   \n",
       "1976                  This doesn't justify the killing.   \n",
       "1977  The officers were wrong. Your first instinct s...   \n",
       "1978                    Horrible, Black Must Fight Back   \n",
       "1979  This is BS..  you did not show perp point tase...   \n",
       "\n",
       "                                          token_comment  \n",
       "0     [I, 'm, not, from, the, US, but, I, sure, as, ...  \n",
       "1     [We, dont, need, his, ``, help, to, understand...  \n",
       "2     [There, 's, a, time, and, a, place, to, fight,...  \n",
       "3     [I, always, wonder, why, CNN, never, shows, th...  \n",
       "4     [The, fact, this, is, what, you, choose, to, c...  \n",
       "...                                                 ...  \n",
       "1975  [the, USA, is, lost, ..., and, nobody, gon, na...  \n",
       "1976        [This, does, n't, justify, the, killing, .]  \n",
       "1977  [The, officers, were, wrong, ., Your, first, i...  \n",
       "1978            [Horrible, ,, Black, Must, Fight, Back]  \n",
       "1979  [This, is, BS, .., you, did, not, show, perp, ...  \n",
       "\n",
       "[1980 rows x 2 columns]"
      ]
     },
     "execution_count": 72,
     "metadata": {},
     "output_type": "execute_result"
    }
   ],
   "source": [
    "yt_comment"
   ]
  },
  {
   "cell_type": "code",
   "execution_count": 73,
   "metadata": {},
   "outputs": [
    {
     "data": {
      "text/plain": [
       "['!',\n",
       " '\"',\n",
       " '#',\n",
       " '$',\n",
       " '%',\n",
       " '&',\n",
       " \"'\",\n",
       " '(',\n",
       " ')',\n",
       " '*',\n",
       " '+',\n",
       " ',',\n",
       " '-',\n",
       " '.',\n",
       " '/',\n",
       " ':',\n",
       " ';',\n",
       " '<',\n",
       " '=',\n",
       " '>',\n",
       " '?',\n",
       " '@',\n",
       " '[',\n",
       " '\\\\',\n",
       " ']',\n",
       " '^',\n",
       " '_',\n",
       " '`',\n",
       " '{',\n",
       " '|',\n",
       " '}',\n",
       " '~',\n",
       " '``']"
      ]
     },
     "execution_count": 73,
     "metadata": {},
     "output_type": "execute_result"
    }
   ],
   "source": [
    "#remove punctuation\n",
    "import string\n",
    "punc=list(string.punctuation)\n",
    "punc.append('``')\n",
    "punc"
   ]
  },
  {
   "cell_type": "code",
   "execution_count": 74,
   "metadata": {},
   "outputs": [],
   "source": [
    "yt_comment[\"token_comment_punc\"]=yt_comment[\"token_comment\"].apply(lambda x:[word for word in x if word not in punc])"
   ]
  },
  {
   "cell_type": "code",
   "execution_count": 75,
   "metadata": {},
   "outputs": [
    {
     "data": {
      "text/html": [
       "<div>\n",
       "<style scoped>\n",
       "    .dataframe tbody tr th:only-of-type {\n",
       "        vertical-align: middle;\n",
       "    }\n",
       "\n",
       "    .dataframe tbody tr th {\n",
       "        vertical-align: top;\n",
       "    }\n",
       "\n",
       "    .dataframe thead th {\n",
       "        text-align: right;\n",
       "    }\n",
       "</style>\n",
       "<table border=\"1\" class=\"dataframe\">\n",
       "  <thead>\n",
       "    <tr style=\"text-align: right;\">\n",
       "      <th></th>\n",
       "      <th>comment</th>\n",
       "      <th>token_comment</th>\n",
       "      <th>token_comment_punc</th>\n",
       "    </tr>\n",
       "  </thead>\n",
       "  <tbody>\n",
       "    <tr>\n",
       "      <th>0</th>\n",
       "      <td>I'm not from the US but I sure as hell know no...</td>\n",
       "      <td>[I, 'm, not, from, the, US, but, I, sure, as, ...</td>\n",
       "      <td>[I, 'm, not, from, the, US, but, I, sure, as, ...</td>\n",
       "    </tr>\n",
       "    <tr>\n",
       "      <th>1</th>\n",
       "      <td>We dont need his \"help to understand what we'r...</td>\n",
       "      <td>[We, dont, need, his, ``, help, to, understand...</td>\n",
       "      <td>[We, dont, need, his, help, to, understand, wh...</td>\n",
       "    </tr>\n",
       "    <tr>\n",
       "      <th>2</th>\n",
       "      <td>There's a time and a place to fight the police...</td>\n",
       "      <td>[There, 's, a, time, and, a, place, to, fight,...</td>\n",
       "      <td>[There, 's, a, time, and, a, place, to, fight,...</td>\n",
       "    </tr>\n",
       "    <tr>\n",
       "      <th>3</th>\n",
       "      <td>I always wonder why CNN never shows the whole ...</td>\n",
       "      <td>[I, always, wonder, why, CNN, never, shows, th...</td>\n",
       "      <td>[I, always, wonder, why, CNN, never, shows, th...</td>\n",
       "    </tr>\n",
       "    <tr>\n",
       "      <th>4</th>\n",
       "      <td>The fact this is what you choose to cover show...</td>\n",
       "      <td>[The, fact, this, is, what, you, choose, to, c...</td>\n",
       "      <td>[The, fact, this, is, what, you, choose, to, c...</td>\n",
       "    </tr>\n",
       "  </tbody>\n",
       "</table>\n",
       "</div>"
      ],
      "text/plain": [
       "                                             comment  \\\n",
       "0  I'm not from the US but I sure as hell know no...   \n",
       "1  We dont need his \"help to understand what we'r...   \n",
       "2  There's a time and a place to fight the police...   \n",
       "3  I always wonder why CNN never shows the whole ...   \n",
       "4  The fact this is what you choose to cover show...   \n",
       "\n",
       "                                       token_comment  \\\n",
       "0  [I, 'm, not, from, the, US, but, I, sure, as, ...   \n",
       "1  [We, dont, need, his, ``, help, to, understand...   \n",
       "2  [There, 's, a, time, and, a, place, to, fight,...   \n",
       "3  [I, always, wonder, why, CNN, never, shows, th...   \n",
       "4  [The, fact, this, is, what, you, choose, to, c...   \n",
       "\n",
       "                                  token_comment_punc  \n",
       "0  [I, 'm, not, from, the, US, but, I, sure, as, ...  \n",
       "1  [We, dont, need, his, help, to, understand, wh...  \n",
       "2  [There, 's, a, time, and, a, place, to, fight,...  \n",
       "3  [I, always, wonder, why, CNN, never, shows, th...  \n",
       "4  [The, fact, this, is, what, you, choose, to, c...  "
      ]
     },
     "execution_count": 75,
     "metadata": {},
     "output_type": "execute_result"
    }
   ],
   "source": [
    "yt_comment.head()"
   ]
  },
  {
   "cell_type": "code",
   "execution_count": 76,
   "metadata": {},
   "outputs": [],
   "source": [
    "#remove stopwords\n",
    "stopwords=set(stopwords.words(\"english\"))"
   ]
  },
  {
   "cell_type": "code",
   "execution_count": 77,
   "metadata": {},
   "outputs": [
    {
     "data": {
      "text/plain": [
       "{'a',\n",
       " 'about',\n",
       " 'above',\n",
       " 'after',\n",
       " 'again',\n",
       " 'against',\n",
       " 'ain',\n",
       " 'all',\n",
       " 'am',\n",
       " 'an',\n",
       " 'and',\n",
       " 'any',\n",
       " 'are',\n",
       " 'aren',\n",
       " \"aren't\",\n",
       " 'as',\n",
       " 'at',\n",
       " 'be',\n",
       " 'because',\n",
       " 'been',\n",
       " 'before',\n",
       " 'being',\n",
       " 'below',\n",
       " 'between',\n",
       " 'both',\n",
       " 'but',\n",
       " 'by',\n",
       " 'can',\n",
       " 'couldn',\n",
       " \"couldn't\",\n",
       " 'd',\n",
       " 'did',\n",
       " 'didn',\n",
       " \"didn't\",\n",
       " 'do',\n",
       " 'does',\n",
       " 'doesn',\n",
       " \"doesn't\",\n",
       " 'doing',\n",
       " 'don',\n",
       " \"don't\",\n",
       " 'down',\n",
       " 'during',\n",
       " 'each',\n",
       " 'few',\n",
       " 'for',\n",
       " 'from',\n",
       " 'further',\n",
       " 'had',\n",
       " 'hadn',\n",
       " \"hadn't\",\n",
       " 'has',\n",
       " 'hasn',\n",
       " \"hasn't\",\n",
       " 'have',\n",
       " 'haven',\n",
       " \"haven't\",\n",
       " 'having',\n",
       " 'he',\n",
       " 'her',\n",
       " 'here',\n",
       " 'hers',\n",
       " 'herself',\n",
       " 'him',\n",
       " 'himself',\n",
       " 'his',\n",
       " 'how',\n",
       " 'i',\n",
       " 'if',\n",
       " 'in',\n",
       " 'into',\n",
       " 'is',\n",
       " 'isn',\n",
       " \"isn't\",\n",
       " 'it',\n",
       " \"it's\",\n",
       " 'its',\n",
       " 'itself',\n",
       " 'just',\n",
       " 'll',\n",
       " 'm',\n",
       " 'ma',\n",
       " 'me',\n",
       " 'mightn',\n",
       " \"mightn't\",\n",
       " 'more',\n",
       " 'most',\n",
       " 'mustn',\n",
       " \"mustn't\",\n",
       " 'my',\n",
       " 'myself',\n",
       " 'needn',\n",
       " \"needn't\",\n",
       " 'no',\n",
       " 'nor',\n",
       " 'not',\n",
       " 'now',\n",
       " 'o',\n",
       " 'of',\n",
       " 'off',\n",
       " 'on',\n",
       " 'once',\n",
       " 'only',\n",
       " 'or',\n",
       " 'other',\n",
       " 'our',\n",
       " 'ours',\n",
       " 'ourselves',\n",
       " 'out',\n",
       " 'over',\n",
       " 'own',\n",
       " 're',\n",
       " 's',\n",
       " 'same',\n",
       " 'shan',\n",
       " \"shan't\",\n",
       " 'she',\n",
       " \"she's\",\n",
       " 'should',\n",
       " \"should've\",\n",
       " 'shouldn',\n",
       " \"shouldn't\",\n",
       " 'so',\n",
       " 'some',\n",
       " 'such',\n",
       " 't',\n",
       " 'than',\n",
       " 'that',\n",
       " \"that'll\",\n",
       " 'the',\n",
       " 'their',\n",
       " 'theirs',\n",
       " 'them',\n",
       " 'themselves',\n",
       " 'then',\n",
       " 'there',\n",
       " 'these',\n",
       " 'they',\n",
       " 'this',\n",
       " 'those',\n",
       " 'through',\n",
       " 'to',\n",
       " 'too',\n",
       " 'under',\n",
       " 'until',\n",
       " 'up',\n",
       " 've',\n",
       " 'very',\n",
       " 'was',\n",
       " 'wasn',\n",
       " \"wasn't\",\n",
       " 'we',\n",
       " 'were',\n",
       " 'weren',\n",
       " \"weren't\",\n",
       " 'what',\n",
       " 'when',\n",
       " 'where',\n",
       " 'which',\n",
       " 'while',\n",
       " 'who',\n",
       " 'whom',\n",
       " 'why',\n",
       " 'will',\n",
       " 'with',\n",
       " 'won',\n",
       " \"won't\",\n",
       " 'wouldn',\n",
       " \"wouldn't\",\n",
       " 'y',\n",
       " 'you',\n",
       " \"you'd\",\n",
       " \"you'll\",\n",
       " \"you're\",\n",
       " \"you've\",\n",
       " 'your',\n",
       " 'yours',\n",
       " 'yourself',\n",
       " 'yourselves'}"
      ]
     },
     "execution_count": 77,
     "metadata": {},
     "output_type": "execute_result"
    }
   ],
   "source": [
    "stopwords"
   ]
  },
  {
   "cell_type": "code",
   "execution_count": 78,
   "metadata": {},
   "outputs": [],
   "source": [
    "yt_comment[\"comment_stop\"]=yt_comment[\"token_comment_punc\"].apply(lambda x: [word for word in x if str.lower(word) not in stopwords])"
   ]
  },
  {
   "cell_type": "code",
   "execution_count": 79,
   "metadata": {},
   "outputs": [
    {
     "data": {
      "text/html": [
       "<div>\n",
       "<style scoped>\n",
       "    .dataframe tbody tr th:only-of-type {\n",
       "        vertical-align: middle;\n",
       "    }\n",
       "\n",
       "    .dataframe tbody tr th {\n",
       "        vertical-align: top;\n",
       "    }\n",
       "\n",
       "    .dataframe thead th {\n",
       "        text-align: right;\n",
       "    }\n",
       "</style>\n",
       "<table border=\"1\" class=\"dataframe\">\n",
       "  <thead>\n",
       "    <tr style=\"text-align: right;\">\n",
       "      <th></th>\n",
       "      <th>comment</th>\n",
       "      <th>token_comment</th>\n",
       "      <th>token_comment_punc</th>\n",
       "      <th>comment_stop</th>\n",
       "    </tr>\n",
       "  </thead>\n",
       "  <tbody>\n",
       "    <tr>\n",
       "      <th>0</th>\n",
       "      <td>I'm not from the US but I sure as hell know no...</td>\n",
       "      <td>[I, 'm, not, from, the, US, but, I, sure, as, ...</td>\n",
       "      <td>[I, 'm, not, from, the, US, but, I, sure, as, ...</td>\n",
       "      <td>['m, US, sure, hell, know, point, weapon, cop,...</td>\n",
       "    </tr>\n",
       "    <tr>\n",
       "      <th>1</th>\n",
       "      <td>We dont need his \"help to understand what we'r...</td>\n",
       "      <td>[We, dont, need, his, ``, help, to, understand...</td>\n",
       "      <td>[We, dont, need, his, help, to, understand, wh...</td>\n",
       "      <td>[dont, need, help, understand, 're, seeing, ''...</td>\n",
       "    </tr>\n",
       "    <tr>\n",
       "      <th>2</th>\n",
       "      <td>There's a time and a place to fight the police...</td>\n",
       "      <td>[There, 's, a, time, and, a, place, to, fight,...</td>\n",
       "      <td>[There, 's, a, time, and, a, place, to, fight,...</td>\n",
       "      <td>['s, time, place, fight, police, 's, called, c...</td>\n",
       "    </tr>\n",
       "    <tr>\n",
       "      <th>3</th>\n",
       "      <td>I always wonder why CNN never shows the whole ...</td>\n",
       "      <td>[I, always, wonder, why, CNN, never, shows, th...</td>\n",
       "      <td>[I, always, wonder, why, CNN, never, shows, th...</td>\n",
       "      <td>[always, wonder, CNN, never, shows, whole, CLI...</td>\n",
       "    </tr>\n",
       "    <tr>\n",
       "      <th>4</th>\n",
       "      <td>The fact this is what you choose to cover show...</td>\n",
       "      <td>[The, fact, this, is, what, you, choose, to, c...</td>\n",
       "      <td>[The, fact, this, is, what, you, choose, to, c...</td>\n",
       "      <td>[fact, choose, cover, shows, true, intentions]</td>\n",
       "    </tr>\n",
       "  </tbody>\n",
       "</table>\n",
       "</div>"
      ],
      "text/plain": [
       "                                             comment  \\\n",
       "0  I'm not from the US but I sure as hell know no...   \n",
       "1  We dont need his \"help to understand what we'r...   \n",
       "2  There's a time and a place to fight the police...   \n",
       "3  I always wonder why CNN never shows the whole ...   \n",
       "4  The fact this is what you choose to cover show...   \n",
       "\n",
       "                                       token_comment  \\\n",
       "0  [I, 'm, not, from, the, US, but, I, sure, as, ...   \n",
       "1  [We, dont, need, his, ``, help, to, understand...   \n",
       "2  [There, 's, a, time, and, a, place, to, fight,...   \n",
       "3  [I, always, wonder, why, CNN, never, shows, th...   \n",
       "4  [The, fact, this, is, what, you, choose, to, c...   \n",
       "\n",
       "                                  token_comment_punc  \\\n",
       "0  [I, 'm, not, from, the, US, but, I, sure, as, ...   \n",
       "1  [We, dont, need, his, help, to, understand, wh...   \n",
       "2  [There, 's, a, time, and, a, place, to, fight,...   \n",
       "3  [I, always, wonder, why, CNN, never, shows, th...   \n",
       "4  [The, fact, this, is, what, you, choose, to, c...   \n",
       "\n",
       "                                        comment_stop  \n",
       "0  ['m, US, sure, hell, know, point, weapon, cop,...  \n",
       "1  [dont, need, help, understand, 're, seeing, ''...  \n",
       "2  ['s, time, place, fight, police, 's, called, c...  \n",
       "3  [always, wonder, CNN, never, shows, whole, CLI...  \n",
       "4     [fact, choose, cover, shows, true, intentions]  "
      ]
     },
     "execution_count": 79,
     "metadata": {},
     "output_type": "execute_result"
    }
   ],
   "source": [
    "yt_comment.head()"
   ]
  },
  {
   "cell_type": "code",
   "execution_count": 80,
   "metadata": {},
   "outputs": [
    {
     "name": "stdout",
     "output_type": "stream",
     "text": [
      "see\n"
     ]
    }
   ],
   "source": [
    "#stemming\n",
    "ps = PorterStemmer()\n",
    "print(ps.stem(\"seeing\"))\n",
    "\n",
    "yt_comment[\"comment_stem\"]=yt_comment[\"comment_stop\"].apply(lambda x:list(set([ps.stem(word) for word in x])))"
   ]
  },
  {
   "cell_type": "code",
   "execution_count": 81,
   "metadata": {},
   "outputs": [
    {
     "data": {
      "text/html": [
       "<div>\n",
       "<style scoped>\n",
       "    .dataframe tbody tr th:only-of-type {\n",
       "        vertical-align: middle;\n",
       "    }\n",
       "\n",
       "    .dataframe tbody tr th {\n",
       "        vertical-align: top;\n",
       "    }\n",
       "\n",
       "    .dataframe thead th {\n",
       "        text-align: right;\n",
       "    }\n",
       "</style>\n",
       "<table border=\"1\" class=\"dataframe\">\n",
       "  <thead>\n",
       "    <tr style=\"text-align: right;\">\n",
       "      <th></th>\n",
       "      <th>comment</th>\n",
       "      <th>token_comment</th>\n",
       "      <th>token_comment_punc</th>\n",
       "      <th>comment_stop</th>\n",
       "      <th>comment_stem</th>\n",
       "    </tr>\n",
       "  </thead>\n",
       "  <tbody>\n",
       "    <tr>\n",
       "      <th>0</th>\n",
       "      <td>I'm not from the US but I sure as hell know no...</td>\n",
       "      <td>[I, 'm, not, from, the, US, but, I, sure, as, ...</td>\n",
       "      <td>[I, 'm, not, from, the, US, but, I, sure, as, ...</td>\n",
       "      <td>['m, US, sure, hell, know, point, weapon, cop,...</td>\n",
       "      <td>[sure, know, point, cop, weapon, senseless, US...</td>\n",
       "    </tr>\n",
       "    <tr>\n",
       "      <th>1</th>\n",
       "      <td>We dont need his \"help to understand what we'r...</td>\n",
       "      <td>[We, dont, need, his, ``, help, to, understand...</td>\n",
       "      <td>[We, dont, need, his, help, to, understand, wh...</td>\n",
       "      <td>[dont, need, help, understand, 're, seeing, ''...</td>\n",
       "      <td>[ourself, full, help, 're, uncut, understand, ...</td>\n",
       "    </tr>\n",
       "    <tr>\n",
       "      <th>2</th>\n",
       "      <td>There's a time and a place to fight the police...</td>\n",
       "      <td>[There, 's, a, time, and, a, place, to, fight,...</td>\n",
       "      <td>[There, 's, a, time, and, a, place, to, fight,...</td>\n",
       "      <td>['s, time, place, fight, police, 's, called, c...</td>\n",
       "      <td>[time, place, fight, polic, call, court, room,...</td>\n",
       "    </tr>\n",
       "    <tr>\n",
       "      <th>3</th>\n",
       "      <td>I always wonder why CNN never shows the whole ...</td>\n",
       "      <td>[I, always, wonder, why, CNN, never, shows, th...</td>\n",
       "      <td>[I, always, wonder, why, CNN, never, shows, th...</td>\n",
       "      <td>[always, wonder, CNN, never, shows, whole, CLI...</td>\n",
       "      <td>[cnn, alway, clip, wonder, section, whole, har...</td>\n",
       "    </tr>\n",
       "    <tr>\n",
       "      <th>4</th>\n",
       "      <td>The fact this is what you choose to cover show...</td>\n",
       "      <td>[The, fact, this, is, what, you, choose, to, c...</td>\n",
       "      <td>[The, fact, this, is, what, you, choose, to, c...</td>\n",
       "      <td>[fact, choose, cover, shows, true, intentions]</td>\n",
       "      <td>[cover, intent, choos, fact, true, show]</td>\n",
       "    </tr>\n",
       "  </tbody>\n",
       "</table>\n",
       "</div>"
      ],
      "text/plain": [
       "                                             comment  \\\n",
       "0  I'm not from the US but I sure as hell know no...   \n",
       "1  We dont need his \"help to understand what we'r...   \n",
       "2  There's a time and a place to fight the police...   \n",
       "3  I always wonder why CNN never shows the whole ...   \n",
       "4  The fact this is what you choose to cover show...   \n",
       "\n",
       "                                       token_comment  \\\n",
       "0  [I, 'm, not, from, the, US, but, I, sure, as, ...   \n",
       "1  [We, dont, need, his, ``, help, to, understand...   \n",
       "2  [There, 's, a, time, and, a, place, to, fight,...   \n",
       "3  [I, always, wonder, why, CNN, never, shows, th...   \n",
       "4  [The, fact, this, is, what, you, choose, to, c...   \n",
       "\n",
       "                                  token_comment_punc  \\\n",
       "0  [I, 'm, not, from, the, US, but, I, sure, as, ...   \n",
       "1  [We, dont, need, his, help, to, understand, wh...   \n",
       "2  [There, 's, a, time, and, a, place, to, fight,...   \n",
       "3  [I, always, wonder, why, CNN, never, shows, th...   \n",
       "4  [The, fact, this, is, what, you, choose, to, c...   \n",
       "\n",
       "                                        comment_stop  \\\n",
       "0  ['m, US, sure, hell, know, point, weapon, cop,...   \n",
       "1  [dont, need, help, understand, 're, seeing, ''...   \n",
       "2  ['s, time, place, fight, police, 's, called, c...   \n",
       "3  [always, wonder, CNN, never, shows, whole, CLI...   \n",
       "4     [fact, choose, cover, shows, true, intentions]   \n",
       "\n",
       "                                        comment_stem  \n",
       "0  [sure, know, point, cop, weapon, senseless, US...  \n",
       "1  [ourself, full, help, 're, uncut, understand, ...  \n",
       "2  [time, place, fight, polic, call, court, room,...  \n",
       "3  [cnn, alway, clip, wonder, section, whole, har...  \n",
       "4           [cover, intent, choos, fact, true, show]  "
      ]
     },
     "execution_count": 81,
     "metadata": {},
     "output_type": "execute_result"
    }
   ],
   "source": [
    "yt_comment.head()"
   ]
  },
  {
   "cell_type": "code",
   "execution_count": 86,
   "metadata": {},
   "outputs": [
    {
     "data": {
      "text/html": [
       "<div>\n",
       "<style scoped>\n",
       "    .dataframe tbody tr th:only-of-type {\n",
       "        vertical-align: middle;\n",
       "    }\n",
       "\n",
       "    .dataframe tbody tr th {\n",
       "        vertical-align: top;\n",
       "    }\n",
       "\n",
       "    .dataframe thead th {\n",
       "        text-align: right;\n",
       "    }\n",
       "</style>\n",
       "<table border=\"1\" class=\"dataframe\">\n",
       "  <thead>\n",
       "    <tr style=\"text-align: right;\">\n",
       "      <th></th>\n",
       "      <th>comment</th>\n",
       "      <th>token_comment</th>\n",
       "      <th>token_comment_punc</th>\n",
       "      <th>comment_stop</th>\n",
       "      <th>comment_stem</th>\n",
       "      <th>str_comment</th>\n",
       "    </tr>\n",
       "  </thead>\n",
       "  <tbody>\n",
       "    <tr>\n",
       "      <th>0</th>\n",
       "      <td>I'm not from the US but I sure as hell know no...</td>\n",
       "      <td>[I, 'm, not, from, the, US, but, I, sure, as, ...</td>\n",
       "      <td>[I, 'm, not, from, the, US, but, I, sure, as, ...</td>\n",
       "      <td>['m, US, sure, hell, know, point, weapon, cop,...</td>\n",
       "      <td>[sure, know, point, cop, weapon, senseless, US...</td>\n",
       "      <td>sure know point cop weapon senseless US 'm 's ...</td>\n",
       "    </tr>\n",
       "    <tr>\n",
       "      <th>1</th>\n",
       "      <td>We dont need his \"help to understand what we'r...</td>\n",
       "      <td>[We, dont, need, his, ``, help, to, understand...</td>\n",
       "      <td>[We, dont, need, his, help, to, understand, wh...</td>\n",
       "      <td>[dont, need, help, understand, 're, seeing, ''...</td>\n",
       "      <td>[ourself, full, help, 're, uncut, understand, ...</td>\n",
       "      <td>ourself full help 're uncut understand judg se...</td>\n",
       "    </tr>\n",
       "    <tr>\n",
       "      <th>2</th>\n",
       "      <td>There's a time and a place to fight the police...</td>\n",
       "      <td>[There, 's, a, time, and, a, place, to, fight,...</td>\n",
       "      <td>[There, 's, a, time, and, a, place, to, fight,...</td>\n",
       "      <td>['s, time, place, fight, police, 's, called, c...</td>\n",
       "      <td>[time, place, fight, polic, call, court, room,...</td>\n",
       "      <td>time place fight polic call court room 's</td>\n",
       "    </tr>\n",
       "    <tr>\n",
       "      <th>3</th>\n",
       "      <td>I always wonder why CNN never shows the whole ...</td>\n",
       "      <td>[I, always, wonder, why, CNN, never, shows, th...</td>\n",
       "      <td>[I, always, wonder, why, CNN, never, shows, th...</td>\n",
       "      <td>[always, wonder, CNN, never, shows, whole, CLI...</td>\n",
       "      <td>[cnn, alway, clip, wonder, section, whole, har...</td>\n",
       "      <td>cnn alway clip wonder section whole hard much ...</td>\n",
       "    </tr>\n",
       "    <tr>\n",
       "      <th>4</th>\n",
       "      <td>The fact this is what you choose to cover show...</td>\n",
       "      <td>[The, fact, this, is, what, you, choose, to, c...</td>\n",
       "      <td>[The, fact, this, is, what, you, choose, to, c...</td>\n",
       "      <td>[fact, choose, cover, shows, true, intentions]</td>\n",
       "      <td>[cover, intent, choos, fact, true, show]</td>\n",
       "      <td>cover intent choos fact true show</td>\n",
       "    </tr>\n",
       "  </tbody>\n",
       "</table>\n",
       "</div>"
      ],
      "text/plain": [
       "                                             comment  \\\n",
       "0  I'm not from the US but I sure as hell know no...   \n",
       "1  We dont need his \"help to understand what we'r...   \n",
       "2  There's a time and a place to fight the police...   \n",
       "3  I always wonder why CNN never shows the whole ...   \n",
       "4  The fact this is what you choose to cover show...   \n",
       "\n",
       "                                       token_comment  \\\n",
       "0  [I, 'm, not, from, the, US, but, I, sure, as, ...   \n",
       "1  [We, dont, need, his, ``, help, to, understand...   \n",
       "2  [There, 's, a, time, and, a, place, to, fight,...   \n",
       "3  [I, always, wonder, why, CNN, never, shows, th...   \n",
       "4  [The, fact, this, is, what, you, choose, to, c...   \n",
       "\n",
       "                                  token_comment_punc  \\\n",
       "0  [I, 'm, not, from, the, US, but, I, sure, as, ...   \n",
       "1  [We, dont, need, his, help, to, understand, wh...   \n",
       "2  [There, 's, a, time, and, a, place, to, fight,...   \n",
       "3  [I, always, wonder, why, CNN, never, shows, th...   \n",
       "4  [The, fact, this, is, what, you, choose, to, c...   \n",
       "\n",
       "                                        comment_stop  \\\n",
       "0  ['m, US, sure, hell, know, point, weapon, cop,...   \n",
       "1  [dont, need, help, understand, 're, seeing, ''...   \n",
       "2  ['s, time, place, fight, police, 's, called, c...   \n",
       "3  [always, wonder, CNN, never, shows, whole, CLI...   \n",
       "4     [fact, choose, cover, shows, true, intentions]   \n",
       "\n",
       "                                        comment_stem  \\\n",
       "0  [sure, know, point, cop, weapon, senseless, US...   \n",
       "1  [ourself, full, help, 're, uncut, understand, ...   \n",
       "2  [time, place, fight, polic, call, court, room,...   \n",
       "3  [cnn, alway, clip, wonder, section, whole, har...   \n",
       "4           [cover, intent, choos, fact, true, show]   \n",
       "\n",
       "                                         str_comment  \n",
       "0  sure know point cop weapon senseless US 'm 's ...  \n",
       "1  ourself full help 're uncut understand judg se...  \n",
       "2          time place fight polic call court room 's  \n",
       "3  cnn alway clip wonder section whole hard much ...  \n",
       "4                  cover intent choos fact true show  "
      ]
     },
     "execution_count": 86,
     "metadata": {},
     "output_type": "execute_result"
    }
   ],
   "source": [
    "# yt_comment[\"comment_stem\"]=yt_comment[\"comment_stem\"].apply(lambda x: \" \".join(x))\n",
    "yt_comment[\"str_comment\"]=yt_comment[\"comment_stem\"].apply(lambda x: \" \".join(x))\n",
    "yt_comment.head()\n",
    "                                        "
   ]
  },
  {
   "cell_type": "code",
   "execution_count": 87,
   "metadata": {},
   "outputs": [],
   "source": [
    "#polarity function\n",
    "from textblob import TextBlob\n",
    "def polarity_function(x):\n",
    "    return TextBlob(x).sentiment.polarity\n",
    "\n",
    "yt_comment[\"comment_polarity\"]=yt_comment[\"str_comment\"].apply(polarity_function, lambda x: x)"
   ]
  },
  {
   "cell_type": "code",
   "execution_count": 88,
   "metadata": {},
   "outputs": [
    {
     "data": {
      "text/html": [
       "<div>\n",
       "<style scoped>\n",
       "    .dataframe tbody tr th:only-of-type {\n",
       "        vertical-align: middle;\n",
       "    }\n",
       "\n",
       "    .dataframe tbody tr th {\n",
       "        vertical-align: top;\n",
       "    }\n",
       "\n",
       "    .dataframe thead th {\n",
       "        text-align: right;\n",
       "    }\n",
       "</style>\n",
       "<table border=\"1\" class=\"dataframe\">\n",
       "  <thead>\n",
       "    <tr style=\"text-align: right;\">\n",
       "      <th></th>\n",
       "      <th>comment</th>\n",
       "      <th>token_comment</th>\n",
       "      <th>token_comment_punc</th>\n",
       "      <th>comment_stop</th>\n",
       "      <th>comment_stem</th>\n",
       "      <th>str_comment</th>\n",
       "      <th>comment_polarity</th>\n",
       "    </tr>\n",
       "  </thead>\n",
       "  <tbody>\n",
       "    <tr>\n",
       "      <th>0</th>\n",
       "      <td>I'm not from the US but I sure as hell know no...</td>\n",
       "      <td>[I, 'm, not, from, the, US, but, I, sure, as, ...</td>\n",
       "      <td>[I, 'm, not, from, the, US, but, I, sure, as, ...</td>\n",
       "      <td>['m, US, sure, hell, know, point, weapon, cop,...</td>\n",
       "      <td>[sure, know, point, cop, weapon, senseless, US...</td>\n",
       "      <td>sure know point cop weapon senseless US 'm 's ...</td>\n",
       "      <td>0.500000</td>\n",
       "    </tr>\n",
       "    <tr>\n",
       "      <th>1</th>\n",
       "      <td>We dont need his \"help to understand what we'r...</td>\n",
       "      <td>[We, dont, need, his, ``, help, to, understand...</td>\n",
       "      <td>[We, dont, need, his, help, to, understand, wh...</td>\n",
       "      <td>[dont, need, help, understand, 're, seeing, ''...</td>\n",
       "      <td>[ourself, full, help, 're, uncut, understand, ...</td>\n",
       "      <td>ourself full help 're uncut understand judg se...</td>\n",
       "      <td>-0.075000</td>\n",
       "    </tr>\n",
       "    <tr>\n",
       "      <th>2</th>\n",
       "      <td>There's a time and a place to fight the police...</td>\n",
       "      <td>[There, 's, a, time, and, a, place, to, fight,...</td>\n",
       "      <td>[There, 's, a, time, and, a, place, to, fight,...</td>\n",
       "      <td>['s, time, place, fight, police, 's, called, c...</td>\n",
       "      <td>[time, place, fight, polic, call, court, room,...</td>\n",
       "      <td>time place fight polic call court room 's</td>\n",
       "      <td>0.000000</td>\n",
       "    </tr>\n",
       "    <tr>\n",
       "      <th>3</th>\n",
       "      <td>I always wonder why CNN never shows the whole ...</td>\n",
       "      <td>[I, always, wonder, why, CNN, never, shows, th...</td>\n",
       "      <td>[I, always, wonder, why, CNN, never, shows, th...</td>\n",
       "      <td>[always, wonder, CNN, never, shows, whole, CLI...</td>\n",
       "      <td>[cnn, alway, clip, wonder, section, whole, har...</td>\n",
       "      <td>cnn alway clip wonder section whole hard much ...</td>\n",
       "      <td>0.036111</td>\n",
       "    </tr>\n",
       "    <tr>\n",
       "      <th>4</th>\n",
       "      <td>The fact this is what you choose to cover show...</td>\n",
       "      <td>[The, fact, this, is, what, you, choose, to, c...</td>\n",
       "      <td>[The, fact, this, is, what, you, choose, to, c...</td>\n",
       "      <td>[fact, choose, cover, shows, true, intentions]</td>\n",
       "      <td>[cover, intent, choos, fact, true, show]</td>\n",
       "      <td>cover intent choos fact true show</td>\n",
       "      <td>0.350000</td>\n",
       "    </tr>\n",
       "  </tbody>\n",
       "</table>\n",
       "</div>"
      ],
      "text/plain": [
       "                                             comment  \\\n",
       "0  I'm not from the US but I sure as hell know no...   \n",
       "1  We dont need his \"help to understand what we'r...   \n",
       "2  There's a time and a place to fight the police...   \n",
       "3  I always wonder why CNN never shows the whole ...   \n",
       "4  The fact this is what you choose to cover show...   \n",
       "\n",
       "                                       token_comment  \\\n",
       "0  [I, 'm, not, from, the, US, but, I, sure, as, ...   \n",
       "1  [We, dont, need, his, ``, help, to, understand...   \n",
       "2  [There, 's, a, time, and, a, place, to, fight,...   \n",
       "3  [I, always, wonder, why, CNN, never, shows, th...   \n",
       "4  [The, fact, this, is, what, you, choose, to, c...   \n",
       "\n",
       "                                  token_comment_punc  \\\n",
       "0  [I, 'm, not, from, the, US, but, I, sure, as, ...   \n",
       "1  [We, dont, need, his, help, to, understand, wh...   \n",
       "2  [There, 's, a, time, and, a, place, to, fight,...   \n",
       "3  [I, always, wonder, why, CNN, never, shows, th...   \n",
       "4  [The, fact, this, is, what, you, choose, to, c...   \n",
       "\n",
       "                                        comment_stop  \\\n",
       "0  ['m, US, sure, hell, know, point, weapon, cop,...   \n",
       "1  [dont, need, help, understand, 're, seeing, ''...   \n",
       "2  ['s, time, place, fight, police, 's, called, c...   \n",
       "3  [always, wonder, CNN, never, shows, whole, CLI...   \n",
       "4     [fact, choose, cover, shows, true, intentions]   \n",
       "\n",
       "                                        comment_stem  \\\n",
       "0  [sure, know, point, cop, weapon, senseless, US...   \n",
       "1  [ourself, full, help, 're, uncut, understand, ...   \n",
       "2  [time, place, fight, polic, call, court, room,...   \n",
       "3  [cnn, alway, clip, wonder, section, whole, har...   \n",
       "4           [cover, intent, choos, fact, true, show]   \n",
       "\n",
       "                                         str_comment  comment_polarity  \n",
       "0  sure know point cop weapon senseless US 'm 's ...          0.500000  \n",
       "1  ourself full help 're uncut understand judg se...         -0.075000  \n",
       "2          time place fight polic call court room 's          0.000000  \n",
       "3  cnn alway clip wonder section whole hard much ...          0.036111  \n",
       "4                  cover intent choos fact true show          0.350000  "
      ]
     },
     "execution_count": 88,
     "metadata": {},
     "output_type": "execute_result"
    }
   ],
   "source": [
    "yt_comment.head()"
   ]
  },
  {
   "cell_type": "code",
   "execution_count": 89,
   "metadata": {},
   "outputs": [],
   "source": [
    "def get_sentiment(x):\n",
    "    if x < 0:\n",
    "        return \"negative\"\n",
    "    elif x == 0:\n",
    "        return \"neutral\"\n",
    "    else:\n",
    "        return \"positive\""
   ]
  },
  {
   "cell_type": "code",
   "execution_count": 90,
   "metadata": {},
   "outputs": [],
   "source": [
    "yt_comment[\"sentiment\"]=yt_comment[\"comment_polarity\"].apply(get_sentiment,lambda x:x)"
   ]
  },
  {
   "cell_type": "code",
   "execution_count": 91,
   "metadata": {},
   "outputs": [
    {
     "data": {
      "text/html": [
       "<div>\n",
       "<style scoped>\n",
       "    .dataframe tbody tr th:only-of-type {\n",
       "        vertical-align: middle;\n",
       "    }\n",
       "\n",
       "    .dataframe tbody tr th {\n",
       "        vertical-align: top;\n",
       "    }\n",
       "\n",
       "    .dataframe thead th {\n",
       "        text-align: right;\n",
       "    }\n",
       "</style>\n",
       "<table border=\"1\" class=\"dataframe\">\n",
       "  <thead>\n",
       "    <tr style=\"text-align: right;\">\n",
       "      <th></th>\n",
       "      <th>comment</th>\n",
       "      <th>token_comment</th>\n",
       "      <th>token_comment_punc</th>\n",
       "      <th>comment_stop</th>\n",
       "      <th>comment_stem</th>\n",
       "      <th>str_comment</th>\n",
       "      <th>comment_polarity</th>\n",
       "      <th>sentiment</th>\n",
       "    </tr>\n",
       "  </thead>\n",
       "  <tbody>\n",
       "    <tr>\n",
       "      <th>0</th>\n",
       "      <td>I'm not from the US but I sure as hell know no...</td>\n",
       "      <td>[I, 'm, not, from, the, US, but, I, sure, as, ...</td>\n",
       "      <td>[I, 'm, not, from, the, US, but, I, sure, as, ...</td>\n",
       "      <td>['m, US, sure, hell, know, point, weapon, cop,...</td>\n",
       "      <td>[sure, know, point, cop, weapon, senseless, US...</td>\n",
       "      <td>sure know point cop weapon senseless US 'm 's ...</td>\n",
       "      <td>0.500000</td>\n",
       "      <td>positive</td>\n",
       "    </tr>\n",
       "    <tr>\n",
       "      <th>1</th>\n",
       "      <td>We dont need his \"help to understand what we'r...</td>\n",
       "      <td>[We, dont, need, his, ``, help, to, understand...</td>\n",
       "      <td>[We, dont, need, his, help, to, understand, wh...</td>\n",
       "      <td>[dont, need, help, understand, 're, seeing, ''...</td>\n",
       "      <td>[ourself, full, help, 're, uncut, understand, ...</td>\n",
       "      <td>ourself full help 're uncut understand judg se...</td>\n",
       "      <td>-0.075000</td>\n",
       "      <td>negative</td>\n",
       "    </tr>\n",
       "    <tr>\n",
       "      <th>2</th>\n",
       "      <td>There's a time and a place to fight the police...</td>\n",
       "      <td>[There, 's, a, time, and, a, place, to, fight,...</td>\n",
       "      <td>[There, 's, a, time, and, a, place, to, fight,...</td>\n",
       "      <td>['s, time, place, fight, police, 's, called, c...</td>\n",
       "      <td>[time, place, fight, polic, call, court, room,...</td>\n",
       "      <td>time place fight polic call court room 's</td>\n",
       "      <td>0.000000</td>\n",
       "      <td>neutral</td>\n",
       "    </tr>\n",
       "    <tr>\n",
       "      <th>3</th>\n",
       "      <td>I always wonder why CNN never shows the whole ...</td>\n",
       "      <td>[I, always, wonder, why, CNN, never, shows, th...</td>\n",
       "      <td>[I, always, wonder, why, CNN, never, shows, th...</td>\n",
       "      <td>[always, wonder, CNN, never, shows, whole, CLI...</td>\n",
       "      <td>[cnn, alway, clip, wonder, section, whole, har...</td>\n",
       "      <td>cnn alway clip wonder section whole hard much ...</td>\n",
       "      <td>0.036111</td>\n",
       "      <td>positive</td>\n",
       "    </tr>\n",
       "    <tr>\n",
       "      <th>4</th>\n",
       "      <td>The fact this is what you choose to cover show...</td>\n",
       "      <td>[The, fact, this, is, what, you, choose, to, c...</td>\n",
       "      <td>[The, fact, this, is, what, you, choose, to, c...</td>\n",
       "      <td>[fact, choose, cover, shows, true, intentions]</td>\n",
       "      <td>[cover, intent, choos, fact, true, show]</td>\n",
       "      <td>cover intent choos fact true show</td>\n",
       "      <td>0.350000</td>\n",
       "      <td>positive</td>\n",
       "    </tr>\n",
       "  </tbody>\n",
       "</table>\n",
       "</div>"
      ],
      "text/plain": [
       "                                             comment  \\\n",
       "0  I'm not from the US but I sure as hell know no...   \n",
       "1  We dont need his \"help to understand what we'r...   \n",
       "2  There's a time and a place to fight the police...   \n",
       "3  I always wonder why CNN never shows the whole ...   \n",
       "4  The fact this is what you choose to cover show...   \n",
       "\n",
       "                                       token_comment  \\\n",
       "0  [I, 'm, not, from, the, US, but, I, sure, as, ...   \n",
       "1  [We, dont, need, his, ``, help, to, understand...   \n",
       "2  [There, 's, a, time, and, a, place, to, fight,...   \n",
       "3  [I, always, wonder, why, CNN, never, shows, th...   \n",
       "4  [The, fact, this, is, what, you, choose, to, c...   \n",
       "\n",
       "                                  token_comment_punc  \\\n",
       "0  [I, 'm, not, from, the, US, but, I, sure, as, ...   \n",
       "1  [We, dont, need, his, help, to, understand, wh...   \n",
       "2  [There, 's, a, time, and, a, place, to, fight,...   \n",
       "3  [I, always, wonder, why, CNN, never, shows, th...   \n",
       "4  [The, fact, this, is, what, you, choose, to, c...   \n",
       "\n",
       "                                        comment_stop  \\\n",
       "0  ['m, US, sure, hell, know, point, weapon, cop,...   \n",
       "1  [dont, need, help, understand, 're, seeing, ''...   \n",
       "2  ['s, time, place, fight, police, 's, called, c...   \n",
       "3  [always, wonder, CNN, never, shows, whole, CLI...   \n",
       "4     [fact, choose, cover, shows, true, intentions]   \n",
       "\n",
       "                                        comment_stem  \\\n",
       "0  [sure, know, point, cop, weapon, senseless, US...   \n",
       "1  [ourself, full, help, 're, uncut, understand, ...   \n",
       "2  [time, place, fight, polic, call, court, room,...   \n",
       "3  [cnn, alway, clip, wonder, section, whole, har...   \n",
       "4           [cover, intent, choos, fact, true, show]   \n",
       "\n",
       "                                         str_comment  comment_polarity  \\\n",
       "0  sure know point cop weapon senseless US 'm 's ...          0.500000   \n",
       "1  ourself full help 're uncut understand judg se...         -0.075000   \n",
       "2          time place fight polic call court room 's          0.000000   \n",
       "3  cnn alway clip wonder section whole hard much ...          0.036111   \n",
       "4                  cover intent choos fact true show          0.350000   \n",
       "\n",
       "  sentiment  \n",
       "0  positive  \n",
       "1  negative  \n",
       "2   neutral  \n",
       "3  positive  \n",
       "4  positive  "
      ]
     },
     "execution_count": 91,
     "metadata": {},
     "output_type": "execute_result"
    }
   ],
   "source": [
    "yt_comment.head()"
   ]
  },
  {
   "cell_type": "code",
   "execution_count": 93,
   "metadata": {},
   "outputs": [
    {
     "name": "stdout",
     "output_type": "stream",
     "text": [
      "comment:  I'm not from the US but I sure as hell know not to point a weapon at a cop, It's extremely senseless.\n",
      "it's sentiment:  positive\n"
     ]
    }
   ],
   "source": [
    "print(\"comment: \", yt_comment[\"comment\"][0])\n",
    "print(\"it's sentiment: \", yt_comment[\"sentiment\"][0])"
   ]
  },
  {
   "cell_type": "code",
   "execution_count": 94,
   "metadata": {},
   "outputs": [
    {
     "name": "stdout",
     "output_type": "stream",
     "text": [
      "comment:  We dont need his \"help to understand what we're seeing\", what we need is a full uncut video to judge for ourself what we're seeing.\n",
      "it's sentiment:  negative\n"
     ]
    }
   ],
   "source": [
    "print(\"comment: \", yt_comment[\"comment\"][1])\n",
    "print(\"it's sentiment: \", yt_comment[\"sentiment\"][1])"
   ]
  },
  {
   "cell_type": "code",
   "execution_count": null,
   "metadata": {},
   "outputs": [],
   "source": []
  },
  {
   "cell_type": "code",
   "execution_count": 96,
   "metadata": {},
   "outputs": [
    {
     "name": "stdout",
     "output_type": "stream",
     "text": [
      "comment:  The fact this is what you choose to cover shows your true intentions.\n",
      "it's sentiment:  positive\n"
     ]
    }
   ],
   "source": [
    "print(\"comment: \", yt_comment[\"comment\"][4])\n",
    "print(\"it's sentiment: \", yt_comment[\"sentiment\"][4])"
   ]
  },
  {
   "cell_type": "code",
   "execution_count": 99,
   "metadata": {},
   "outputs": [
    {
     "data": {
      "text/plain": [
       "(array([481.,   0.,   0.,   0.,   0., 672.,   0.,   0.,   0., 827.]),\n",
       " array([0. , 0.2, 0.4, 0.6, 0.8, 1. , 1.2, 1.4, 1.6, 1.8, 2. ]),\n",
       " <BarContainer object of 10 artists>)"
      ]
     },
     "execution_count": 99,
     "metadata": {},
     "output_type": "execute_result"
    },
    {
     "data": {
      "image/png": "[encoded data removed]",
      "text/plain": [
       "<Figure size 720x720 with 1 Axes>"
      ]
     },
     "metadata": {},
     "output_type": "display_data"
    }
   ],
   "source": [
    "import matplotlib.pyplot as plt\n",
    "plt.figure(figsize=(10,10))\n",
    "plt.style.use(\"ggplot\")\n",
    "plt.hist(yt_comment[\"sentiment\"])"
   ]
  },
  {
   "cell_type": "code",
   "execution_count": null,
   "metadata": {},
   "outputs": [],
   "source": []
  },
  {
   "cell_type": "code",
   "execution_count": null,
   "metadata": {},
   "outputs": [],
   "source": []
  },
  {
   "cell_type": "code",
   "execution_count": null,
   "metadata": {},
   "outputs": [],
   "source": []
  },
  {
   "cell_type": "code",
   "execution_count": null,
   "metadata": {},
   "outputs": [],
   "source": []
  },
  {
   "cell_type": "code",
   "execution_count": null,
   "metadata": {},
   "outputs": [],
   "source": []
  },
  {
   "cell_type": "code",
   "execution_count": null,
   "metadata": {},
   "outputs": [],
   "source": []
  },
  {
   "cell_type": "code",
   "execution_count": null,
   "metadata": {},
   "outputs": [],
   "source": []
  },
  {
   "cell_type": "code",
   "execution_count": null,
   "metadata": {},
   "outputs": [],
   "source": []
  },
  {
   "cell_type": "code",
   "execution_count": null,
   "metadata": {},
   "outputs": [],
   "source": [
    "#"
   ]
  }
 ],
 "metadata": {
  "kernelspec": {
   "display_name": "Python 3",
   "language": "python",
   "name": "python3"
  },
  "language_info": {
   "codemirror_mode": {
    "name": "ipython",
    "version": 3
   },
   "file_extension": ".py",
   "mimetype": "text/x-python",
   "name": "python",
   "nbconvert_exporter": "python",
   "pygments_lexer": "ipython3",
   "version": "3.8.5"
  }
 },
 "nbformat": 4,
 "nbformat_minor": 5
}
